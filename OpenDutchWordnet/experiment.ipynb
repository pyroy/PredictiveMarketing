{
 "cells": [
  {
   "cell_type": "code",
   "execution_count": 1,
   "metadata": {
    "collapsed": true
   },
   "outputs": [],
   "source": [
    "from __init__ import Wn_grid_parser"
   ]
  },
  {
   "cell_type": "code",
   "execution_count": 2,
   "metadata": {
    "collapsed": true
   },
   "outputs": [],
   "source": [
    "self = Wn_grid_parser(Wn_grid_parser.odwn)"
   ]
  },
  {
   "cell_type": "code",
   "execution_count": 4,
   "metadata": {
    "collapsed": false
   },
   "outputs": [
    {
     "name": "stdout",
     "output_type": "stream",
     "text": [
      "59918\n"
     ]
    }
   ],
   "source": [
    "outfile = open('synonyms.tsv', 'w')\n",
    "counter = 0\n",
    "headers = ['lemma', 'synonyms']\n",
    "outfile.write('\\t'.join(headers) + '\\n')\n",
    "\n",
    "for lemma in self.lemmas_generator():\n",
    "    counter += 1\n",
    "    synonyms = self.les_lemma_synonyms(lemma)\n",
    "    synonyms.remove(lemma)\n",
    "\n",
    "    if all([synonyms,\n",
    "            len(synonyms) < 20]):\n",
    "        export = [lemma] + list(synonyms)\n",
    "        outfile.write('\\t'.join(export) + '\\n')\n",
    "        \n",
    "        \n",
    "outfile.close()\n",
    "\n",
    "print(counter)"
   ]
  },
  {
   "cell_type": "code",
   "execution_count": null,
   "metadata": {
    "collapsed": false
   },
   "outputs": [],
   "source": []
  },
  {
   "cell_type": "code",
   "execution_count": null,
   "metadata": {
    "collapsed": true
   },
   "outputs": [],
   "source": []
  }
 ],
 "metadata": {
  "kernelspec": {
   "display_name": "Python 3",
   "language": "python",
   "name": "python3"
  },
  "language_info": {
   "codemirror_mode": {
    "name": "ipython",
    "version": 3
   },
   "file_extension": ".py",
   "mimetype": "text/x-python",
   "name": "python",
   "nbconvert_exporter": "python",
   "pygments_lexer": "ipython3",
   "version": "3.4.0"
  }
 },
 "nbformat": 4,
 "nbformat_minor": 0
}

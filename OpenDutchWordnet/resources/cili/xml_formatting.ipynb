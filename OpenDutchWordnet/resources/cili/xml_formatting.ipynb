{
 "cells": [
  {
   "cell_type": "code",
   "execution_count": 1,
   "metadata": {
    "collapsed": true
   },
   "outputs": [],
   "source": [
    "from lxml import etree"
   ]
  },
  {
   "cell_type": "code",
   "execution_count": 2,
   "metadata": {
    "collapsed": false
   },
   "outputs": [],
   "source": [
    "input_path = 'starting_point.xml'\n",
    "output_path = 'the_starting_point.xml'\n",
    "output_path2 = 'the_starting_point2.xml'"
   ]
  },
  {
   "cell_type": "code",
   "execution_count": 3,
   "metadata": {
    "collapsed": false
   },
   "outputs": [],
   "source": [
    "with open(input_path, 'r') as infile:\n",
    "    with open(output_path, 'w') as outfile:\n",
    "        outfile.write(infile.read())"
   ]
  },
  {
   "cell_type": "code",
   "execution_count": 4,
   "metadata": {
    "collapsed": false
   },
   "outputs": [
    {
     "name": "stdout",
     "output_type": "stream",
     "text": [
      "<?xml version=\"1.0\" encoding=\"UTF-8\"?>\r\n",
      "<!DOCTYPE LexicalResource SYSTEM \"http://globalwordnet.github.io/schemas/WN-LMF-1.0.dtd\">\r\n",
      "<LexicalResource xmlns:dc=\"http://purl.org/dc/elements/1.1/\">\r\n",
      "    <Lexicon id=\"odwn-nl\"\r\n",
      "             label=\"Open Dutch WordNet\"\r\n",
      "             language=\"nl\"\r\n",
      "             email=\"piek.vossen@vu.nl\"\r\n",
      "             license=\"https://creativecommons.org/licenses/by-sa/4.0/\"\r\n",
      "             version=\"1.3\"\r\n",
      "             citation=\"Open Dutch WordNet. Marten Postma and Emiel van Miltenburg and Roxane Segers and Anneleen Schoen and Piek Vossen, Proceedings of the Global WordNet Conference 2016, (2016).\"\r\n",
      "             url=\"http://wordpress.let.vupr.nl/odwn/\"\r\n",
      "             dc:publisher=\"Global Wordnet Association\">\r\n",
      "    </Lexicon>\r\n",
      "</LexicalResource>"
     ]
    }
   ],
   "source": [
    "cat the_starting_point.xml"
   ]
  },
  {
   "cell_type": "code",
   "execution_count": 5,
   "metadata": {
    "collapsed": true
   },
   "outputs": [],
   "source": [
    "xml = etree.parse(output_path, etree.XMLParser(remove_blank_text=True))\n",
    "root = xml.getroot()\n",
    "lexicon_el = xml.find('Lexicon')\n",
    "\n",
    "for _ in range(2):\n",
    "    synset_el = etree.Element('Synset',\n",
    "                              attrib={'id': 'identifier',\n",
    "                                      'ili': 'ili-identifier'})\n",
    "    synset_el.tail = '\\n'\n",
    "    lexicon_el.append(synset_el)"
   ]
  },
  {
   "cell_type": "code",
   "execution_count": 6,
   "metadata": {
    "collapsed": false
   },
   "outputs": [],
   "source": [
    "xml.write(output_path2,\n",
    "          pretty_print=True,\n",
    "          xml_declaration=True,\n",
    "          encoding='utf-8')"
   ]
  },
  {
   "cell_type": "code",
   "execution_count": 7,
   "metadata": {
    "collapsed": false
   },
   "outputs": [
    {
     "name": "stdout",
     "output_type": "stream",
     "text": [
      "<?xml version='1.0' encoding='UTF-8'?>\r\n",
      "<!DOCTYPE LexicalResource SYSTEM \"http://globalwordnet.github.io/schemas/WN-LMF-1.0.dtd\">\r\n",
      "<LexicalResource xmlns:dc=\"http://purl.org/dc/elements/1.1/\">\r\n",
      "  <Lexicon id=\"odwn-nl\" label=\"Open Dutch WordNet\" language=\"nl\" email=\"piek.vossen@vu.nl\" license=\"https://creativecommons.org/licenses/by-sa/4.0/\" version=\"1.3\" citation=\"Open Dutch WordNet. Marten Postma and Emiel van Miltenburg and Roxane Segers and Anneleen Schoen and Piek Vossen, Proceedings of the Global WordNet Conference 2016, (2016).\" url=\"http://wordpress.let.vupr.nl/odwn/\" dc:publisher=\"Global Wordnet Association\">\r\n",
      "    <Synset id=\"identifier\" ili=\"ili-identifier\"/>\r\n",
      "<Synset id=\"identifier\" ili=\"ili-identifier\"/>\r\n",
      "</Lexicon>\r\n",
      "</LexicalResource>\r\n"
     ]
    }
   ],
   "source": [
    "cat 'the_starting_point2.xml'"
   ]
  },
  {
   "cell_type": "code",
   "execution_count": null,
   "metadata": {
    "collapsed": false
   },
   "outputs": [],
   "source": []
  },
  {
   "cell_type": "code",
   "execution_count": null,
   "metadata": {
    "collapsed": true
   },
   "outputs": [],
   "source": []
  }
 ],
 "metadata": {
  "kernelspec": {
   "display_name": "Python [Root]",
   "language": "python",
   "name": "Python [Root]"
  },
  "language_info": {
   "codemirror_mode": {
    "name": "ipython",
    "version": 3
   },
   "file_extension": ".py",
   "mimetype": "text/x-python",
   "name": "python",
   "nbconvert_exporter": "python",
   "pygments_lexer": "ipython3",
   "version": "3.5.2"
  }
 },
 "nbformat": 4,
 "nbformat_minor": 0
}

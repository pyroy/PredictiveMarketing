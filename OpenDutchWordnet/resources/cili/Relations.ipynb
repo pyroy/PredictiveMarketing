{
 "cells": [
  {
   "cell_type": "code",
   "execution_count": 1,
   "metadata": {
    "collapsed": true
   },
   "outputs": [],
   "source": [
    "dtd_relations = 'agent|also|attribute|be_in_state|causes|classified_by|classifies|co_agent_instrument|co_agent_patient|co_agent_result|co_instrument_agent|co_instrument_patient|co_instrument_result|co_patient_agent|co_patient_instrument|co_result_agent|co_result_instrument|co_role|direction|domain_region|domain_topic|exemplifies|entails|eq_synonym|has_domain_region|has_domain_topic|is_exemplified_by|holo_location|holo_member|holo_part|holo_portion|holo_substance|holonym|hypernym|hyponym|in_manner|instance_hypernym|instance_hyponym|instrument|involved|involved_agent|involved_direction|involved_instrument|involved_location|involved_patient|involved_result|involved_source_direction|involved_target_direction|is_caused_by|is_entailed_by|location|manner_of|mero_location|mero_member|mero_part|mero_portion|mero_substance|meronym|similar|other|patient|restricted_by|restricts|result|role|source_direction|state_of|target_direction|subevent|is_subevent_of|antonym'.split('|')\n",
    "dtd_relations = set(dtd_relations)"
   ]
  },
  {
   "cell_type": "code",
   "execution_count": 2,
   "metadata": {
    "collapsed": false,
    "scrolled": true
   },
   "outputs": [
    {
     "data": {
      "text/plain": [
       "71"
      ]
     },
     "execution_count": 2,
     "metadata": {},
     "output_type": "execute_result"
    }
   ],
   "source": [
    "len(dtd_relations)"
   ]
  },
  {
   "cell_type": "code",
   "execution_count": 3,
   "metadata": {
    "collapsed": false
   },
   "outputs": [
    {
     "data": {
      "text/plain": [
       "{'agent',\n",
       " 'also',\n",
       " 'antonym',\n",
       " 'attribute',\n",
       " 'be_in_state',\n",
       " 'causes',\n",
       " 'classified_by',\n",
       " 'classifies',\n",
       " 'co_agent_instrument',\n",
       " 'co_agent_patient',\n",
       " 'co_agent_result',\n",
       " 'co_instrument_agent',\n",
       " 'co_instrument_patient',\n",
       " 'co_instrument_result',\n",
       " 'co_patient_agent',\n",
       " 'co_patient_instrument',\n",
       " 'co_result_agent',\n",
       " 'co_result_instrument',\n",
       " 'co_role',\n",
       " 'direction',\n",
       " 'domain_region',\n",
       " 'domain_topic',\n",
       " 'entails',\n",
       " 'eq_synonym',\n",
       " 'exemplifies',\n",
       " 'has_domain_region',\n",
       " 'has_domain_topic',\n",
       " 'holo_location',\n",
       " 'holo_member',\n",
       " 'holo_part',\n",
       " 'holo_portion',\n",
       " 'holo_substance',\n",
       " 'holonym',\n",
       " 'hypernym',\n",
       " 'hyponym',\n",
       " 'in_manner',\n",
       " 'instance_hypernym',\n",
       " 'instance_hyponym',\n",
       " 'instrument',\n",
       " 'involved',\n",
       " 'involved_agent',\n",
       " 'involved_direction',\n",
       " 'involved_instrument',\n",
       " 'involved_location',\n",
       " 'involved_patient',\n",
       " 'involved_result',\n",
       " 'involved_source_direction',\n",
       " 'involved_target_direction',\n",
       " 'is_caused_by',\n",
       " 'is_entailed_by',\n",
       " 'is_exemplified_by',\n",
       " 'is_subevent_of',\n",
       " 'location',\n",
       " 'manner_of',\n",
       " 'mero_location',\n",
       " 'mero_member',\n",
       " 'mero_part',\n",
       " 'mero_portion',\n",
       " 'mero_substance',\n",
       " 'meronym',\n",
       " 'other',\n",
       " 'patient',\n",
       " 'restricted_by',\n",
       " 'restricts',\n",
       " 'result',\n",
       " 'role',\n",
       " 'similar',\n",
       " 'source_direction',\n",
       " 'state_of',\n",
       " 'subevent',\n",
       " 'target_direction'}"
      ]
     },
     "execution_count": 3,
     "metadata": {},
     "output_type": "execute_result"
    }
   ],
   "source": [
    "dtd_relations"
   ]
  },
  {
   "cell_type": "code",
   "execution_count": 4,
   "metadata": {
    "collapsed": true
   },
   "outputs": [],
   "source": [
    "odwn_relations = {'co_instrument_patient': 120,\n",
    "'near_antonym': 342,\n",
    "'involved_patient': 708,\n",
    "'near_synonym': 288,\n",
    "'xpos_near_synonym': 1194,\n",
    "'has_hyperonym': 124874,\n",
    "'has_meronym': 73,\n",
    "'co_patient_result': 4,\n",
    "'has_mero_madeof': 882,\n",
    "'has_holo_part': 9738,\n",
    "'co_result_agent': 21,\n",
    "'co_result_patient': 4,\n",
    "'role_target_direction': 13,\n",
    "'involved_direction': 13,\n",
    "'causes': 604,\n",
    "'co_agent_instrument': 38,\n",
    "'role_result': 184,\n",
    "'role_source_direction': 6,\n",
    "'involved_source_direction': 6,\n",
    "'co_result_instrument': 28,\n",
    "'fuzzynym': 2,\n",
    "'co_patient_agent': 18,\n",
    "'co_agent_patient': 27,\n",
    "'has_mero_member': 12424,\n",
    "'has_mero_location': 164,\n",
    "'role_agent': 385,\n",
    "'manner_of': 8,\n",
    "'role_patient': 458,\n",
    "'has_holo_member': 12421,\n",
    "'involved_target_direction': 32,\n",
    "'involved_instrument': 1021,\n",
    "'role_instrument': 717,\n",
    "'be_in_state': 63,\n",
    "'in_manner': 8,\n",
    "'co_instrument_result': 36,\n",
    "'co_instrument_agent': 23,\n",
    "'has_xpos_hyperonym': 67,\n",
    "'is_subevent_of': 270,\n",
    "'co_agent_result': 25,\n",
    "'involved': 85,\n",
    "'has_holo_portion': 42,\n",
    "'has_subevent': 262,\n",
    "'co_role': 14,\n",
    "'has_holo_location': 136,\n",
    "'has_holo_madeof': 856,\n",
    "'has_mero_portion': 49,\n",
    "'role_direction': 5,\n",
    "'role': 54,\n",
    "'role_location': 64,\n",
    "'involved_location': 102,\n",
    "'involved_result': 237,\n",
    "'state_of': 75,\n",
    "'co_patient_instrument': 102,\n",
    "'involved_agent': 491,\n",
    "'instance': 17154,\n",
    "'has_mero_part': 9749,\n",
    "'has_holonym': 82,\n",
    "'has_hyponym': 124874,\n",
    "'has_xpos_hyponym': 56,\n",
    "'is_caused_by': 552}"
   ]
  },
  {
   "cell_type": "code",
   "execution_count": 5,
   "metadata": {
    "collapsed": true
   },
   "outputs": [],
   "source": [
    "odwn_relations = set(odwn_relations.keys())"
   ]
  },
  {
   "cell_type": "code",
   "execution_count": 6,
   "metadata": {
    "collapsed": false
   },
   "outputs": [
    {
     "data": {
      "text/plain": [
       "60"
      ]
     },
     "execution_count": 6,
     "metadata": {},
     "output_type": "execute_result"
    }
   ],
   "source": [
    "len(odwn_relations)"
   ]
  },
  {
   "cell_type": "code",
   "execution_count": 9,
   "metadata": {
    "collapsed": false
   },
   "outputs": [],
   "source": [
    "reltypes_mapping = {'near_antonym' : 'antonym',\n",
    "                    'fuzzynym' : 'other',\n",
    "                    \n",
    "                    'has_mero_location' : 'mero_location',\n",
    "                    'has_mero_member' : 'mero_member',\n",
    "                    \n",
    "                    'role_source_direction' : 'source_direction',\n",
    "                    'role_patient' : 'patient',\n",
    "                    'role_result' : 'result',\n",
    "                    'role_instrument' : 'instrument',\n",
    "                    'role_direction' : 'direction',\n",
    "                    'role_location' : 'location',\n",
    "                    'role_agent' : 'agent',\n",
    "                    'role_target_direction' : 'target_direction',\n",
    "                    \n",
    "                    'has_subevent' : 'subevent',\n",
    "\n",
    "                    'has_hyperonym' : 'hypernym',\n",
    "                    'has_xpos_hyperonym' : 'hypernym',\n",
    "                    'has_hyponym' : 'hyponym',\n",
    "                    'has_xpos_hyponym' : 'hyponym',\n",
    "                    'has_meronym' : 'meronym',\n",
    "                    'has_holonym' : 'holonym',\n",
    "                    \n",
    "                    'has_mero_madeof' : 'mero_substance',\n",
    "                    'has_mero_portion': 'mero_portion',\n",
    "                    'has_mero_part' : 'mero_part',\n",
    "                    \n",
    "                    'has_holo_portion' : 'holo_portion',\n",
    "                    'has_holo_member' : 'holo_member',\n",
    "                    'has_holo_location' : 'holo_location',\n",
    "                    'has_holo_part' : 'holo_substance',\n",
    "                    'has_holo_madeof' : 'holo_substance',\n",
    "                    \n",
    "                    'instance' : 'instance_hypernym',\n",
    "                    \n",
    "                    'near_synonym' : 'eq_synonym',\n",
    "                    }\n",
    "\n",
    "# assume 'has' in front of relation\n",
    "# xpos -> normal\n",
    "# fuzzynym IGNORE\n",
    "# instance -> instance_hypernym (probably)"
   ]
  },
  {
   "cell_type": "code",
   "execution_count": 10,
   "metadata": {
    "collapsed": false
   },
   "outputs": [
    {
     "name": "stdout",
     "output_type": "stream",
     "text": [
      "FAILURE xpos_near_synonym\n",
      "FAILURE co_result_patient\n",
      "FAILURE co_patient_result\n"
     ]
    }
   ],
   "source": [
    "for relation in odwn_relations:\n",
    "    if relation in dtd_relations:\n",
    "        #print('SUCCES', relation)\n",
    "        continue\n",
    "    elif 'xpos' in reltypes_mapping:\n",
    "        #print('IGNORE', relation)\n",
    "        continue\n",
    "    elif relation not in reltypes_mapping:\n",
    "        print('FAILURE', relation)"
   ]
  },
  {
   "cell_type": "code",
   "execution_count": 12,
   "metadata": {
    "collapsed": false
   },
   "outputs": [
    {
     "data": {
      "text/plain": [
       "True"
      ]
     },
     "execution_count": 12,
     "metadata": {},
     "output_type": "execute_result"
    }
   ],
   "source": [
    "'has_hyperonym' in reltypes_mapping"
   ]
  },
  {
   "cell_type": "code",
   "execution_count": null,
   "metadata": {
    "collapsed": true
   },
   "outputs": [],
   "source": []
  }
 ],
 "metadata": {
  "anaconda-cloud": {},
  "kernelspec": {
   "display_name": "Python [Root]",
   "language": "python",
   "name": "Python [Root]"
  },
  "language_info": {
   "codemirror_mode": {
    "name": "ipython",
    "version": 3
   },
   "file_extension": ".py",
   "mimetype": "text/x-python",
   "name": "python",
   "nbconvert_exporter": "python",
   "pygments_lexer": "ipython3",
   "version": "3.5.2"
  }
 },
 "nbformat": 4,
 "nbformat_minor": 0
}

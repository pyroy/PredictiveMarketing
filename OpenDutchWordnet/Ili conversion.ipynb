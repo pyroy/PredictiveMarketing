{
 "cells": [
  {
   "cell_type": "code",
   "execution_count": 1,
   "metadata": {
    "collapsed": true
   },
   "outputs": [],
   "source": [
    "from lxml import etree\n",
    "from __init__ import Wn_grid_parser\n",
    "from datetime import datetime"
   ]
  },
  {
   "cell_type": "markdown",
   "metadata": {},
   "source": [
    "# TODO\n",
    "* make sure it validates"
   ]
  },
  {
   "cell_type": "markdown",
   "metadata": {},
   "source": [
    "## Download dtd"
   ]
  },
  {
   "cell_type": "code",
   "execution_count": 2,
   "metadata": {
    "collapsed": false
   },
   "outputs": [
    {
     "name": "stderr",
     "output_type": "stream",
     "text": [
      "--2017-03-06 10:05:40--  https://raw.githubusercontent.com/globalwordnet/schemas/master/WN-LMF.dtd\n",
      "Resolving raw.githubusercontent.com... 151.101.36.133\n",
      "Connecting to raw.githubusercontent.com|151.101.36.133|:443... connected.\n",
      "HTTP request sent, awaiting response... 200 OK\n",
      "Length: 8196 (8.0K) [text/plain]\n",
      "Saving to: 'resources/cili/WN-LMF.dtd'\n",
      "\n",
      "     0K ........                                              100% 18.6M=0s\n",
      "\n",
      "2017-03-06 10:05:41 (18.6 MB/s) - 'resources/cili/WN-LMF.dtd' saved [8196/8196]\n",
      "\n"
     ]
    }
   ],
   "source": [
    "%%bash\n",
    "wget -O resources/cili/WN-LMF.dtd  https://raw.githubusercontent.com/globalwordnet/schemas/master/WN-LMF.dtd "
   ]
  },
  {
   "cell_type": "markdown",
   "metadata": {},
   "source": [
    "## LexicalEntry"
   ]
  },
  {
   "cell_type": "markdown",
   "metadata": {},
   "source": [
    "FROM\n",
    "```xml\n",
    "<LexicalEntry id=\"elektroforetisch-a-1\" partOfSpeech=\"adjective\">\n",
    "       <Lemma writtenForm=\"elektroforetisch\"/>\n",
    "       <WordForms/>\n",
    "       <Morphology/>\n",
    "       <MorphoSyntax/>\n",
    "       <Sense definition=\"\" id=\"o_a-73337\" provenance=\"google+bing\" senseId=\"1\" synset=\"eng-30-02718845-a\">\n",
    "         <SenseRelations/>\n",
    "         <Semantics-adjective/>\n",
    "         <Pragmatics/>\n",
    "       </Sense>\n",
    "</LexicalEntry>\n",
    "```\n",
    "\n",
    "```xml\n",
    "TO\n",
    "<LexicalEntry id=\"w1\">\n",
    "    <Lemma writtenForm=\"grandfather\" partOfSpeech=\"n\"/>\n",
    "    <Sense id=\"example-10161911-n-1\" synset=\"example-10161911-n\">\n",
    "    </Sense>\n",
    "</LexicalEntry>\n",
    "```\n",
    "\n",
    "TODO:\n",
    "    1. senseId?\n",
    "    2. provenance?\n",
    "    3. mapping pos\n",
    "    4. synset identifier -> list of definitions"
   ]
  },
  {
   "cell_type": "markdown",
   "metadata": {},
   "source": [
    "```xml\n",
    "FROM\n",
    "<Synset id=\"eng-30-06618427-n\" ili=\"i71250\">\n",
    "       <Definitions>\n",
    "         <Definition gloss=\"(film) an abrupt transition from one scene to another\" language=\"en\" provenance=\"pwn\"/>\n",
    "       </Definitions>\n",
    "       <SynsetRelations>\n",
    "         <SynsetRelation provenance=\"pwn\" relType=\"has_hyperonym\" target=\"eng-30-06401328-n\"/>\n",
    "       </SynsetRelations>\n",
    "</Synset>\n",
    "\n",
    "TO\n",
    "<Synset id=\"example-1-n\" ili=\"in\">\n",
    "        <Definition>A father&apos;s father; a paternal grandfather</Definition>\n",
    "        <!-- You can include metadata (such as source) at many points -->\n",
    "        <!-- The ILI Definition must be at least 20 characters or five words -->\n",
    "        <ILIDefinition dc:source=\"https://en.wiktionary.org/wiki/farfar\">A father&apos;s father; a paternal grandfather</ILIDefinition>\n",
    "        <SynsetRelation relType=\"hypernym\" target=\"example-10162692-n\"/>\n",
    "\n",
    "</Synset>\n",
    "```\n",
    "\n",
    "TODO:\n",
    "    1. mapping relations\n",
    "    2. check provenance\n",
    "\n",
    "QUESTIONS:\n",
    "    1. difference sense example and synset definition"
   ]
  },
  {
   "cell_type": "markdown",
   "metadata": {},
   "source": [
    "### Helper functions and dictionaries"
   ]
  },
  {
   "cell_type": "code",
   "execution_count": 3,
   "metadata": {
    "collapsed": true
   },
   "outputs": [],
   "source": [
    "reltypes_mapping = {'near_antonym': 'antonym',\n",
    "                    'fuzzynym': 'other',\n",
    "\n",
    "                    'has_mero_location': 'mero_location',\n",
    "                    'has_mero_member': 'mero_member',\n",
    "\n",
    "                    'role_source_direction': 'source_direction',\n",
    "                    'role_patient': 'patient',\n",
    "                    'role_result': 'result',\n",
    "                    'role_instrument': 'instrument',\n",
    "                    'role_direction': 'direction',\n",
    "                    'role_location': 'location',\n",
    "                    'role_agent': 'agent',\n",
    "                    'role_target_direction': 'target_direction',\n",
    "\n",
    "                    'has_subevent': 'subevent',\n",
    "\n",
    "                    'has_hyperonym': 'hypernym',\n",
    "                    'has_xpos_hyperonym': 'hypernym',\n",
    "                    'has_hyponym': 'hyponym',\n",
    "                    'has_xpos_hyponym': 'hyponym',\n",
    "                    'has_meronym': 'meronym',\n",
    "                    'has_holonym': 'holonym',\n",
    "\n",
    "                    'has_mero_madeof': 'mero_substance',\n",
    "                    'has_mero_portion': 'mero_portion',\n",
    "                    'has_mero_part': 'mero_part',\n",
    "\n",
    "                    'has_holo_portion': 'holo_portion',\n",
    "                    'has_holo_member': 'holo_member',\n",
    "                    'has_holo_location': 'holo_location',\n",
    "                    'has_holo_part': 'holo_substance',\n",
    "                    'has_holo_madeof': 'holo_substance',\n",
    "\n",
    "                    'instance': 'instance_hypernym',\n",
    "\n",
    "                    'near_synonym': 'eq_synonym'}"
   ]
  },
  {
   "cell_type": "code",
   "execution_count": 4,
   "metadata": {
    "collapsed": true
   },
   "outputs": [],
   "source": [
    "def validate(dtd_path, loaded_xml):\n",
    "    '''\n",
    "    validate against dtd\n",
    "\n",
    "    :param str dtd_path: full path to dtd\n",
    "\n",
    "    :rtype: tuple\n",
    "    :return: (succes,message)\n",
    "    '''\n",
    "    f = open(dtd_path)\n",
    "    dtd = etree.DTD(f)\n",
    "    message = \"\"\n",
    "\n",
    "    succes = dtd.validate(loaded_xml)\n",
    "    if not succes:\n",
    "        message = dtd.error_log.filter_from_errors()[0]\n",
    "\n",
    "    return (succes, message)"
   ]
  },
  {
   "cell_type": "markdown",
   "metadata": {},
   "source": [
    "## Load new synsets information"
   ]
  },
  {
   "cell_type": "code",
   "execution_count": 5,
   "metadata": {
    "collapsed": false
   },
   "outputs": [],
   "source": [
    "wrong_ones = {'odwn-10-104225285-n',\n",
    "              'odwn-10-109919923-n',\n",
    "              'odwn-10-107611589-n',\n",
    "              'odwn-10-102360294-n',\n",
    "              'odwn-10-107262080-n'}\n",
    "\n",
    "rbn_ids = set()\n",
    "odwn_ids = {}\n",
    "\n",
    "with open('resources/cili/new_synsets_v2.csv') as infile:\n",
    "    next(infile)\n",
    "    for line in infile:\n",
    "        split = line.strip().split('\\t')\n",
    "        if len(split) < 8:\n",
    "            continue\n",
    "        rbn_id, odwn_id, ilidef = split[1], split[2], split[7]\n",
    "        \n",
    "        if all([ilidef,\n",
    "                ilidef != 'x',\n",
    "                odwn_id not in wrong_ones]):\n",
    "            rbn_ids.add(rbn_id)\n",
    "            odwn_ids[odwn_id] = ilidef"
   ]
  },
  {
   "cell_type": "code",
   "execution_count": 6,
   "metadata": {
    "collapsed": false
   },
   "outputs": [
    {
     "name": "stdout",
     "output_type": "stream",
     "text": [
      "78\n",
      "78\n"
     ]
    }
   ],
   "source": [
    "print(len(odwn_ids))\n",
    "print(len(rbn_ids))"
   ]
  },
  {
   "cell_type": "markdown",
   "metadata": {},
   "source": [
    "## Starting point"
   ]
  },
  {
   "cell_type": "code",
   "execution_count": 7,
   "metadata": {
    "collapsed": true
   },
   "outputs": [],
   "source": [
    "old = Wn_grid_parser(Wn_grid_parser.odwn)\n",
    "old_root = old.doc.getroot()"
   ]
  },
  {
   "cell_type": "code",
   "execution_count": 8,
   "metadata": {
    "collapsed": false
   },
   "outputs": [
    {
     "name": "stdout",
     "output_type": "stream",
     "text": [
      "<LexicalResource xmlns:dc=\"http://purl.org/dc/elements/1.1/\"/>\n"
     ]
    }
   ],
   "source": [
    "root = etree.fromstring('<LexicalResource xmlns:dc=\"http://purl.org/dc/elements/1.1/\"></LexicalResource>')\n",
    "tree = etree.ElementTree(root)\n",
    "\n",
    "etree.dump(root)"
   ]
  },
  {
   "cell_type": "code",
   "execution_count": 9,
   "metadata": {
    "collapsed": false
   },
   "outputs": [],
   "source": [
    "lexicon_el = etree.Element('Lexicon', \n",
    "                           attrib={\n",
    "        \"id\": \"odwn\",\n",
    "        \"label\": \"Open Dutch WordNet\",\n",
    "        \"language\": \"nl\",\n",
    "        \"email\": \"piek.vossen@vu.nl\",\n",
    "        \"license\": \"https://creativecommons.org/licenses/by-sa/4.0/\",\n",
    "        \"version\": \"1.3\",\n",
    "        \"citation\": \"Open Dutch WordNet. Marten Postma and Emiel van Miltenburg and Roxane Segers and Anneleen Schoen and Piek Vossen, Proceedings of the Global WordNet Conference 2016, (2016).\",\n",
    "        \"url\": \"http://wordpress.let.vupr.nl/odwn/\",\n",
    "        \"{http://purl.org/dc/elements/1.1/}publisher\": \"Global Wordnet Association\",\n",
    "        \"confidenceScore\" : \"1.0\"\n",
    "        },\n",
    "        nsmap={\"dc\" : \"http://purl.org/dc/elements/1.1/\"})\n",
    "root.append(lexicon_el)"
   ]
  },
  {
   "cell_type": "markdown",
   "metadata": {},
   "source": [
    "## Select synset ids to add"
   ]
  },
  {
   "cell_type": "code",
   "execution_count": 10,
   "metadata": {
    "collapsed": true
   },
   "outputs": [],
   "source": [
    "# which synsets to add\n",
    "added_synsets = set()\n",
    "# loop through Synsets\n",
    "for synset_obj in old.synsets_get_generator():\n",
    "    ili = synset_obj.get_ili()\n",
    "    synset_id = synset_obj.get_id()\n",
    "    if all([ili is not None,\n",
    "            synset_id]):\n",
    "        added_synsets.add(synset_id)\n",
    "\n",
    "    if synset_id in odwn_ids:\n",
    "        added_synsets.add(synset_id)"
   ]
  },
  {
   "cell_type": "markdown",
   "metadata": {},
   "source": [
    "## Add LexicalEntries"
   ]
  },
  {
   "cell_type": "code",
   "execution_count": 11,
   "metadata": {
    "collapsed": false
   },
   "outputs": [],
   "source": [
    "# add LexicalEntries\n",
    "added_sense_ids = set()\n",
    "for counter, le_obj in enumerate(old.les_get_generator()): # mw not taken into account\n",
    "\n",
    "    synset_id = le_obj.get_synset_id()\n",
    "    \n",
    "    sense_id = le_obj.get_sense_id()\n",
    "\n",
    "    if all([synset_id,\n",
    "            sense_id not in added_sense_ids]):\n",
    "        if synset_id in added_synsets:\n",
    "            \n",
    "            synset_ili_format = synset_id.replace('eng-30-', 'odwn-')\n",
    "            synset_ili_format = synset_ili_format.replace('odwn-10-', 'odwn-')\n",
    "\n",
    "            # TODO: add sense examples\n",
    "            lexical_entry_el = etree.SubElement(lexicon_el, 'LexicalEntry',\n",
    "                                                attrib={'id': 'w%s' % counter})\n",
    "\n",
    "            pos = le_obj.get_pos()[0]\n",
    "            if sense_id == 'c_546616':\n",
    "                pos = 'v'\n",
    "            \n",
    "            \n",
    "            etree.SubElement(lexical_entry_el, 'Lemma',\n",
    "                             attrib={'writtenForm': le_obj.get_lemma(),\n",
    "                                     'partOfSpeech': pos})\n",
    "\n",
    "            etree.SubElement(lexical_entry_el, 'Sense', attrib={'id': le_obj.get_sense_id(),\n",
    "                                                                'synset': synset_ili_format})\n",
    "\n",
    "\n",
    "            added_sense_ids.add(sense_id)\n"
   ]
  },
  {
   "cell_type": "markdown",
   "metadata": {},
   "source": [
    "## Add Tweet (noun + verb)"
   ]
  },
  {
   "cell_type": "code",
   "execution_count": 12,
   "metadata": {
    "collapsed": true
   },
   "outputs": [],
   "source": [
    "# Add tweet-n\n",
    "lexical_entry_el = etree.SubElement(lexicon_el, 'LexicalEntry',\n",
    "                                                attrib={'id': 'w1000000'})\n",
    "\n",
    "etree.SubElement(lexical_entry_el, 'Lemma',\n",
    "                 attrib={'writtenForm': 'tweet',\n",
    "                         'partOfSpeech': 'n'})\n",
    "\n",
    "etree.SubElement(lexical_entry_el, 'Sense', attrib={'id': 'r_1',\n",
    "                                                    'synset': 'odwn-00000001-n'})\n",
    "\n",
    "added_sense_ids.add('r_1')\n",
    "\n",
    "# Add tweet-v\n",
    "lexical_entry_el = etree.SubElement(lexicon_el, 'LexicalEntry',\n",
    "                                    attrib={'id': 'w1000001'})\n",
    "\n",
    "etree.SubElement(lexical_entry_el, 'Lemma',\n",
    "                 attrib={'writtenForm': 'tweet',\n",
    "                         'partOfSpeech': 'v'})\n",
    "\n",
    "etree.SubElement(lexical_entry_el, 'Sense', attrib={'id': 'r_2',\n",
    "                                                    'synset': 'odwn-00000002-v'})\n",
    "\n",
    "added_sense_ids.add(sense_id)"
   ]
  },
  {
   "cell_type": "markdown",
   "metadata": {},
   "source": [
    "## Add synsets"
   ]
  },
  {
   "cell_type": "code",
   "execution_count": 13,
   "metadata": {
    "collapsed": false
   },
   "outputs": [],
   "source": [
    "for synset_obj in old.synsets_get_generator():\n",
    "\n",
    "    ili = synset_obj.get_ili()\n",
    "    synset_id = synset_obj.get_id()\n",
    "    \n",
    "    synset_ili_format = synset_id.replace('eng-30-', 'odwn-')\n",
    "    synset_ili_format = synset_ili_format.replace('odwn-10-', 'odwn-')\n",
    "\n",
    "    if synset_id in odwn_ids:\n",
    "        ili = 'in'\n",
    "\n",
    "    if all([ili is not None,\n",
    "            synset_id]):\n",
    "        synset_el = etree.Element('Synset',\n",
    "                                  attrib={'id': synset_ili_format,\n",
    "                                          'ili': ili,\n",
    "                                          'partOfSpeech' : synset_ili_format[-1]})\n",
    "\n",
    "        # TODO: add language attribute\n",
    "        # TODO: add Dutch definitions\n",
    "\n",
    "        if synset_id.startswith('eng'):\n",
    "            for def_en in synset_obj.get_glosses(languages=['en']):\n",
    "                def_el = etree.Element('Definition')\n",
    "                def_el.text = def_en\n",
    "                synset_el.append(def_el)\n",
    "\n",
    "        elif synset_id.startswith('odwn'):\n",
    "\n",
    "            def_el = etree.Element('Definition')\n",
    "            def_el.text = odwn_ids[synset_id]\n",
    "            synset_el.append(def_el)\n",
    "\n",
    "            def_el = etree.Element('ILIDefinition')\n",
    "            def_el.text = odwn_ids[synset_id]\n",
    "            synset_el.append(def_el)\n",
    "\n",
    "\n",
    "\n",
    "\n",
    "        for rel_obj in synset_obj.get_all_relations():\n",
    "            reltype = rel_obj.get_reltype()\n",
    "\n",
    "            # TODO: add dc:source\n",
    "\n",
    "            target = rel_obj.get_target()\n",
    "            target_ili_format = target.replace('eng-30-', 'odwn-')\n",
    "            target_ili_format = target_ili_format.replace('odwn-10-', 'odwn-')\n",
    "            \n",
    "            if all([reltype in reltypes_mapping,\n",
    "                    target in added_synsets]):\n",
    "                mapped_reltype = reltypes_mapping[reltype]\n",
    "                source = rel_obj.get_provenance()\n",
    "                rel_el = etree.Element('SynsetRelation', attrib={'relType' : mapped_reltype,\n",
    "                                                                 'target' : target_ili_format})\n",
    "\n",
    "                synset_el.append(rel_el)\n",
    "\n",
    "        lexicon_el.append(synset_el)"
   ]
  },
  {
   "cell_type": "markdown",
   "metadata": {},
   "source": [
    "## Add tweet synsets"
   ]
  },
  {
   "cell_type": "code",
   "execution_count": 14,
   "metadata": {
    "collapsed": true
   },
   "outputs": [],
   "source": [
    "# add synset belonging to tweet-n\n",
    "synset_el = etree.Element('Synset', \n",
    "                          attrib={'id': 'odwn-00000001-n', \n",
    "                                  'ili': 'in',\n",
    "                                  'partOfSpeech' : 'n'})\n",
    "\n",
    "def_el = etree.Element('Definition')\n",
    "def_el.text = 'a message or image posted on Twitter'\n",
    "synset_el.append(def_el)\n",
    "\n",
    "def_el = etree.Element('ILIDefinition')\n",
    "def_el.text = 'a message or image posted on Twitter'\n",
    "synset_el.append(def_el)\n",
    "\n",
    "rel_el = etree.Element('SynsetRelation', attrib={'relType': 'hypernym',\n",
    "                                                 'target': 'odwn-06253690-n'})\n",
    "synset_el.append(rel_el)\n",
    "\n",
    "lexicon_el.append(synset_el)\n",
    "\n",
    "\n",
    "# add synset belonging to tweet-v\n",
    "synset_el = etree.Element('Synset', attrib={'id': 'odwn-00000002-v', \n",
    "                                            'ili': 'in',\n",
    "                                            'partOfSpeech' : 'v'})\n",
    "\n",
    "def_el = etree.Element('Definition')\n",
    "def_el.text = 'to post a message or image on Twitter'\n",
    "synset_el.append(def_el)\n",
    "\n",
    "def_el = etree.Element('ILIDefinition')\n",
    "def_el.text = 'to post a message or image on Twitter'\n",
    "synset_el.append(def_el)\n",
    "\n",
    "rel_el = etree.Element('SynsetRelation', attrib={'relType': 'hypernym',\n",
    "                                                 'target': 'odwn-00742320-v'})\n",
    "synset_el.append(rel_el)\n",
    "\n",
    "lexicon_el.append(synset_el)"
   ]
  },
  {
   "cell_type": "markdown",
   "metadata": {},
   "source": [
    "## Validate and save"
   ]
  },
  {
   "cell_type": "code",
   "execution_count": 15,
   "metadata": {
    "collapsed": false
   },
   "outputs": [
    {
     "name": "stdout",
     "output_type": "stream",
     "text": [
      "True\n",
      "\n"
     ]
    }
   ],
   "source": [
    "# validate\n",
    "dtd_path = 'resources/cili/WN-LMF.dtd'\n",
    "succes, message = validate(dtd_path, tree)\n",
    "print(succes)\n",
    "print(message)\n",
    "\n",
    "if succes:\n",
    "    with open('resources/cili/odwn_cili.xml', \"wb\") as outfile:\n",
    "        tree.write(outfile,\n",
    "                   pretty_print=True,\n",
    "                   xml_declaration=True,\n",
    "                   encoding='utf-8')"
   ]
  },
  {
   "cell_type": "code",
   "execution_count": 16,
   "metadata": {
    "collapsed": false
   },
   "outputs": [
    {
     "name": "stdout",
     "output_type": "stream",
     "text": [
      "<?xml version='1.0' encoding='UTF-8'?>\n",
      "<LexicalResource xmlns:dc=\"http://purl.org/dc/elements/1.1/\">\n",
      "  <Lexicon citation=\"Open Dutch WordNet. Marten Postma and Emiel van Miltenburg and Roxane Segers and Anneleen Schoen and Piek Vossen, Proceedings of the Global WordNet Conference 2016, (2016).\" confidenceScore=\"1.0\" email=\"piek.vossen@vu.nl\" id=\"odwn\" label=\"Open Dutch WordNet\" language=\"nl\" license=\"https://creativecommons.org/licenses/by-sa/4.0/\" url=\"http://wordpress.let.vupr.nl/odwn/\" version=\"1.3\" dc:publisher=\"Global Wordnet Association\">\n",
      "    <LexicalEntry id=\"w0\">\n",
      "      <Lemma partOfSpeech=\"a\" writtenForm=\"hydro-elektrisch\"/>\n",
      "      <Sense id=\"o_a-114723\" synset=\"odwn-02827950-a\"/>\n",
      "    </LexicalEntry>\n",
      "    <LexicalEntry id=\"w1\">\n",
      "      <Lemma partOfSpeech=\"a\" writtenForm=\"elektroforetisch\"/>\n",
      "      <Sense id=\"o_a-73337\" synset=\"odwn-02718845-a\"/>\n"
     ]
    }
   ],
   "source": [
    "%%bash\n",
    "head resources/cili/odwn_cili.xml"
   ]
  },
  {
   "cell_type": "code",
   "execution_count": null,
   "metadata": {
    "collapsed": true
   },
   "outputs": [],
   "source": []
  },
  {
   "cell_type": "code",
   "execution_count": null,
   "metadata": {
    "collapsed": true
   },
   "outputs": [],
   "source": []
  }
 ],
 "metadata": {
  "anaconda-cloud": {},
  "kernelspec": {
   "display_name": "Python 3",
   "language": "python",
   "name": "python3"
  },
  "language_info": {
   "codemirror_mode": {
    "name": "ipython",
    "version": 3
   },
   "file_extension": ".py",
   "mimetype": "text/x-python",
   "name": "python",
   "nbconvert_exporter": "python",
   "pygments_lexer": "ipython3",
   "version": "3.6.0"
  }
 },
 "nbformat": 4,
 "nbformat_minor": 1
}
